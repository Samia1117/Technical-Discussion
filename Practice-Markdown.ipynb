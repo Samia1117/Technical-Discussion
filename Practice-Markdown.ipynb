## Practice Markdown

This notebook lets you experiment with producing repeatable technical documentation.  Use this notebook to do the following actions:

* Create a code cell and print a Python Hello World statement:  `print("hello world")`
* Create a Markdown Cell and add a Title using `#` and then a statement using plain text.  You can looks at the source code for this cell to get an idea of how to use Markdown.
* Take some ideas from the [Master Markdown Github Guide](https://guides.github.com/features/mastering-markdown/) and implement them here.
* Download this notebook as a `.ipynb` file and check into a Github Project.  You can [see an example here](https://github.com/noahgift/duke-coursera-ccf-lab1/blob/main/Practice-Markdown.ipynb).
* Open your notebook in Google Colab and save it into the same Github Project.  You can [see an example here](https://github.com/noahgift/duke-coursera-ccf-lab1/blob/main/Practice_Markdown_with_colab.ipynb).



```python
# Demo code cell
def hello():
    print("Hello, World!")
```

## Hello, this is a demo mark down documentation. 

### I really relate to Linus Torvalds' (founder of Linux) comment: "If I was stranded on an Island and you told me that the only way of escaping this was to design a UI, then I DIE!"

#### Meaning, creating a pretty logo or a pretty demo documentation is probably the last thing my brain will cooperate about.
#### So, please forgive me as I write this terrible one. I actually do better when I have things to say..!


```python
hello()
```

    Hello, World!


### The following is an example of very unsatisfactory technical work


```python
'''A function that does complex recursive work (joke version)
'''
def a_complex_function_that_needs_REAL_DOCUMENTATION(inputX):
    # do some mind blowing recursive computations below
    print("input X is just:", inputX)
    return "Super fantastic result"
```


```python
inputX = "X"
a_complex_function_that_needs_REAL_DOCUMENTATION(inputX)
```

    input X is just: X





    'Super fantastic result'



### Um, the next part is actually a normal function I like a lot as an everyday buddy


```python
''' This class is a standard binary tree with two methods: an init method to create an instance
of this class, and a print method to run down the tree in a depth first search fashion and print each node's values
'''
class Tree:
    def __init__(self, val, left = None, right = None): # left and right are other Tree objects
        self.val = val   # myval is an integer value of this node
        self.left = left  
        self.right = right
        
    '''Print values in a DFS fashion'''
    def print_myself_dfs(self):
        queue = []
        root = self
        queue.append(root)

        while len(queue)!=0: 
            root = queue.pop(-1)
            if root !=None:
                print(root.val)
            if root.left !=None:
                queue.insert(0, root.left)
            if root.right != None:
                queue.insert(0, root.right)
            
```


```python
# Some tests to check correctness of the methods above

t = Tree(1)
t.right = Tree(2)
t.left = Tree(3)
```


```python
t.print_myself_dfs()
```

    1
    3
    2



```python
## initialize an instance of a Tree object
## Number of levels = n = 4, and Number of nodes = 2^(n-1) = 15 nodes, rooted at node with value = 1
queue = []
root = Tree(1)
root_pointer = root

queue.append(root)
maxNodeVal = 15
nextVal = 2
while True:
    #print(nextVal)
    root = queue.pop(-1)
    root.left = Tree(nextVal)
    queue.insert(0, root.left)
    if nextVal == maxNodeVal:
        break
    nextVal+=1
    root.right = Tree(nextVal)
    queue.insert(0, root.right)
    if nextVal == maxNodeVal:
        break
    nextVal+=1

    

```


```python
# Check if the tree was built properly!
root_pointer.print_myself_dfs()
```

    1
    2
    3
    4
    5
    6
    7
    8
    9
    10
    11
    12
    13
    14
    15



```python
def dfs(root, target):
    if root == None:
        return None
    if root.val == target:
        print("Found target: ", target, " !")
    else:
        dfs(root.left, target)
        dfs(root.right, target)
```


```python
myTree = root_pointer # give the tree a better name
target1 = 7

target2 = 16

dfs(myTree, target1)
dfs(myTree, target2)
```

    Found target:  7  !


### Sorry, this was quite a terrible following of instructions. I just wanted to write something I was motivated 
### about, because I had too little energy to do anything else. I'll document this more nicely soon! :)
### Thanks for bearing with me!


```python

```
