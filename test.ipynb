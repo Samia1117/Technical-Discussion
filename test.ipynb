{
  "nbformat": 4,
  "nbformat_minor": 0,
  "metadata": {
    "colab": {
      "name": "test.ipynb",
      "provenance": [],
      "authorship_tag": "ABX9TyPEpI4mpQLpIvnCAgGvX6wU",
      "include_colab_link": true
    },
    "kernelspec": {
      "name": "python3",
      "display_name": "Python 3"
    },
    "language_info": {
      "name": "python"
    }
  },
  "cells": [
    {
      "cell_type": "markdown",
      "metadata": {
        "id": "view-in-github",
        "colab_type": "text"
      },
      "source": [
        "<a href=\"https://colab.research.google.com/github/Samia1117/Technical-Discussion/blob/main/test.ipynb\" target=\"_parent\"><img src=\"https://colab.research.google.com/assets/colab-badge.svg\" alt=\"Open In Colab\"/></a>"
      ]
    },
    {
      "cell_type": "code",
      "metadata": {
        "id": "LkaVLLGjUR8I"
      },
      "source": [
        "# Do something 1"
      ],
      "execution_count": null,
      "outputs": []
    },
    {
      "cell_type": "markdown",
      "metadata": {
        "id": "Q55OZIstUVOC"
      },
      "source": [
        "### This notebook is just a test for importing from colab to GitHub directly!"
      ]
    },
    {
      "cell_type": "code",
      "metadata": {
        "id": "syzIvKixUgyL"
      },
      "source": [
        "# Do something 2"
      ],
      "execution_count": 1,
      "outputs": []
    },
    {
      "cell_type": "markdown",
      "metadata": {
        "id": "kO3j5fXRUlU9"
      },
      "source": [
        "### My model below"
      ]
    },
    {
      "cell_type": "code",
      "metadata": {
        "id": "8OlA3r2vUpMP"
      },
      "source": [
        ""
      ],
      "execution_count": null,
      "outputs": []
    }
  ]
}